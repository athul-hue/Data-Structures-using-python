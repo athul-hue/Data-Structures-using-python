{
 "cells": [
  {
   "cell_type": "code",
   "execution_count": 3,
   "id": "84d74ccb-2279-4d0d-bddf-062c6d4dff37",
   "metadata": {},
   "outputs": [
    {
     "name": "stdout",
     "output_type": "stream",
     "text": [
      "Original Circular List:\n",
      "1 -> 2 -> 3 -> 4 -> (back to head)\n",
      "List After Deletion of 3:\n",
      "1 -> 2 -> 4 -> (back to head)\n",
      "Node with data 5 not found.\n"
     ]
    }
   ],
   "source": [
    "class Node:\n",
    "    def __init__(self, data):\n",
    "        self.data = data  \n",
    "        self.next = None  \n",
    "class CircularLinkedList:\n",
    "    def __init__(self):\n",
    "        self.head = None  \n",
    "    def append(self, data):\n",
    "        new_node = Node(data)\n",
    "        if not self.head:  \n",
    "            self.head = new_node\n",
    "            self.head.next = self.head \n",
    "            return\n",
    "        temp = self.head\n",
    "        while temp.next != self.head:  \n",
    "            temp = temp.next\n",
    "        temp.next = new_node  \n",
    "        new_node.next = self.head  \n",
    "    def delete(self, key):\n",
    "        if not self.head:  \n",
    "            print(\"List is empty\")\n",
    "            return\n",
    "        if self.head.data == key:\n",
    "            if self.head.next == self.head:  \n",
    "                self.head = None\n",
    "                return\n",
    "            temp = self.head\n",
    "            while temp.next != self.head:\n",
    "                temp = temp.next\n",
    "            temp.next = self.head.next  \n",
    "            self.head = self.head.next  \n",
    "            return\n",
    "        prev = self.head\n",
    "        current = self.head.next\n",
    "        while current != self.head:\n",
    "            if current.data == key:\n",
    "                prev.next = current.next\n",
    "                return\n",
    "            prev = current\n",
    "            current = current.next\n",
    "        print(f\"Node with data {key} not found.\")\n",
    "    def print_list(self):\n",
    "        if not self.head:\n",
    "            print(\"List is empty\")\n",
    "            return\n",
    "        temp = self.head\n",
    "        while True:\n",
    "            print(temp.data, end=\" -> \")\n",
    "            temp = temp.next\n",
    "            if temp == self.head:\n",
    "                break\n",
    "        print(\"(back to head)\")\n",
    "cll = CircularLinkedList()\n",
    "cll.append(1)\n",
    "cll.append(2)\n",
    "cll.append(3)\n",
    "cll.append(4)\n",
    "print(\"Original Circular List:\")\n",
    "cll.print_list()\n",
    "cll.delete(3)\n",
    "print(\"List After Deletion of 3:\")\n",
    "cll.print_list()\n",
    "cll.delete(5)"
   ]
  },
  {
   "cell_type": "code",
   "execution_count": null,
   "id": "51950240-0e6f-4c43-84bc-3b289c93c4d6",
   "metadata": {},
   "outputs": [],
   "source": []
  }
 ],
 "metadata": {
  "kernelspec": {
   "display_name": "Python 3 (ipykernel)",
   "language": "python",
   "name": "python3"
  },
  "language_info": {
   "codemirror_mode": {
    "name": "ipython",
    "version": 3
   },
   "file_extension": ".py",
   "mimetype": "text/x-python",
   "name": "python",
   "nbconvert_exporter": "python",
   "pygments_lexer": "ipython3",
   "version": "3.12.4"
  }
 },
 "nbformat": 4,
 "nbformat_minor": 5
}
